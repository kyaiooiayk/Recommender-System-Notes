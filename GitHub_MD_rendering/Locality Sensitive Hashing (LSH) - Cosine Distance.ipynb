{
 "cells": [
  {
   "cell_type": "markdown",
   "metadata": {
    "toc": true
   },
   "source": [
    "<h1>Table of Contents<span class=\"tocSkip\"></span></h1>\n",
""   ]
  },
  {
   "cell_type": "markdown",
   "metadata": {},
   "source": [
    "# Introduction\n",
    "<hr style = \"border:2px solid black\" ></hr>"
   ]
  },
  {
   "cell_type": "markdown",
   "metadata": {},
   "source": [
    "\n",
    "**What?** Locality Sensitive Hashing (LSH) - Cosine Distance\n",
    "\n",
""   ]
  },
  {
   "cell_type": "markdown",
   "metadata": {},
   "source": [
    "# Import modules\n",
    "<hr style = \"border:2px solid black\" ></hr>"
   ]
  },
  {
   "cell_type": "code",
   "execution_count": 1,
   "metadata": {},
   "outputs": [],
   "source": [
    "import numpy as np\n",
    "import pandas as pd\n",
    "import matplotlib.pyplot as plt"
   ]
  },
  {
   "cell_type": "markdown",
   "metadata": {},
   "source": [
    "# Locality Sensitive Hashing (LSH) - Cosine Distance\n",
    "<hr style = \"border:2px solid black\" ></hr>"
   ]
  },
  {
   "cell_type": "markdown",
   "metadata": {},
   "source": [
    "\n",
    "- Similarity search is a widely used and important method in many applications. One example is [Shazam](https://www.shazam.com/), the app that let's us identify can song within seconds is leveraging audio fingerprinting and most likely a fast and scalable similarity search method to retrieve the relevant song from a massive database of songs. \n",
    "\n",
    "- **Locality Sensitive Hashing (LSH)**, an approximate nearest neighborhood search technique in the context of recommendation system. Note that, Locality Sensitive \n",
    "\n",
    "- Hashing (LSH) is **actually** a family of algorithm, different distance metric will correspond to a different method. Here we will be focusing on cosine distance.\n",
    "\n",
""   ]
  },
  {
   "cell_type": "markdown",
   "metadata": {},
   "source": [
    "## Content-Based Filtering"
   ]
  },
  {
   "cell_type": "markdown",
   "metadata": {},
   "source": [
    "In the realm of recommender system, collaborative filtering methods such as matrix factorization are often times workhorse methods of choice. The main idea behind collaborative filtering is that the product you are most likely to buy, is the product that a bunch of people like you also bought. The input to the algorithm is basically a matrix of user IDs and product IDs with values representing who bought what product. Albeit an extremely powerful method, it does suffer from what is known as the cold-start problem.\n",
    "\n",
    "Let's say we want to make recommendations to a customer viewing a product details page, who just got there from a Google SERP link. We have no historical record about this customer, so we can't build a matrix of purchases. This is where a different approach, so called content-based filtering/recommendation can be helpful.\n",
    "\n",
    "When we say content-based filtering, we are referring to the fact that we're using items or users' meta-data to generate the recommendation. For example, say the product page that this user landed on is \"Nike Pro Hypercool Fitted Men's Compression Shirt\", then we can leverage information such as the item's description, price or other attribute to generate recommendation saying you might also love the item \"Nike Pro Hypercool Printed Men's Tights\".\n",
    "\n",
    "The dataset that we'll be working with here is a sample data consisting of outdoor clothing and products from Patagonia. It only consists of two columns, the IDs and the product's text description. To leverage this information, we will transform the raw text into a tfidf-format, and use the tf-idf representation to find similar items for a given item (the most similar items to the item we're interested in is essentially our recommended items)."
   ]
  },
  {
   "cell_type": "code",
   "execution_count": 2,
   "metadata": {},
   "outputs": [
    {
     "name": "stdout",
     "output_type": "stream",
     "text": [
      "dimension:  (500, 2)\n"
     ]
    },
    {
     "data": {
      "text/html": [
       "<style scoped>\n",
       "    .dataframe tbody tr th:only-of-type {\n",
       "        vertical-align: middle;\n",
       "    }\n",
       "\n",
       "    .dataframe tbody tr th {\n",
       "        vertical-align: top;\n",
       "    }\n",
       "\n",
       "    .dataframe thead th {\n",
       "        text-align: right;\n",
       "    }\n",
       "</style>\n",
       "<table border=\"1\" class=\"dataframe\">\n",
       "  <thead>\n",
       "    <tr style=\"text-align: right;\">\n",
       "      <th></th>\n",
       "      <th>id</th>\n",
       "      <th>description</th>\n",
       "    </tr>\n",
       "  </thead>\n",
       "  <tbody>\n",
       "    <tr>\n",
       "      <th>0</th>\n",
       "      <td>1</td>\n",
       "      <td>Active classic boxers - There's a reason why o...</td>\n",
       "    </tr>\n",
       "    <tr>\n",
       "      <th>1</th>\n",
       "      <td>2</td>\n",
       "      <td>Active sport boxer briefs - Skinning up Glory ...</td>\n",
       "    </tr>\n",
       "    <tr>\n",
       "      <th>2</th>\n",
       "      <td>3</td>\n",
       "      <td>Active sport briefs - These superbreathable no...</td>\n",
       "    </tr>\n",
       "    <tr>\n",
       "      <th>3</th>\n",
       "      <td>4</td>\n",
       "      <td>Alpine guide pants - Skin in, climb ice, switc...</td>\n",
       "    </tr>\n",
       "    <tr>\n",
       "      <th>4</th>\n",
       "      <td>5</td>\n",
       "      <td>Alpine wind jkt - On high ridges, steep ice an...</td>\n",
       "    </tr>\n",
       "  </tbody>\n",
       "</table>\n",
""      ],
      "text/plain": [
       "   id                                        description\n",
       "0   1  Active classic boxers - There's a reason why o...\n",
       "1   2  Active sport boxer briefs - Skinning up Glory ...\n",
       "2   3  Active sport briefs - These superbreathable no...\n",
       "3   4  Alpine guide pants - Skin in, climb ice, switc...\n",
       "4   5  Alpine wind jkt - On high ridges, steep ice an..."
      ]
     },
     "execution_count": 2,
     "metadata": {},
     "output_type": "execute_result"
    }
   ],
   "source": [
    "input_local_path = './sample-data-LSH.csv'\n",
    "df = pd.read_csv(input_local_path)\n",
    "print('dimension: ', df.shape)\n",
    "df.head()"
   ]
  },
  {
   "cell_type": "code",
   "execution_count": 3,
   "metadata": {},
   "outputs": [
    {
     "data": {
      "text/plain": [
       "<500x52262 sparse matrix of type '<class 'numpy.float64'>'\n",
       "\twith 148989 stored elements in Compressed Sparse Row format>"
      ]
     },
     "execution_count": 3,
     "metadata": {},
     "output_type": "execute_result"
    }
   ],
   "source": [
    "from sklearn.feature_extraction.text import TfidfVectorizer\n",
    "\n",
    "\n",
    "tfidf = TfidfVectorizer(\n",
    "    analyzer='word',\n",
    "    ngram_range=(1, 3),\n",
    "    min_df=0,\n",
    "    stop_words='english')\n",
    "X_tfidf = tfidf.fit_transform(df['description'])\n",
    "X_tfidf"
   ]
  },
  {
   "cell_type": "code",
   "execution_count": 4,
   "metadata": {},
   "outputs": [
    {
     "name": "stdout",
     "output_type": "stream",
     "text": [
      "similar item id:  1\n",
      "cosine similarity:  1.0000000000000029\n",
      "item description:  Active sport boxer briefs - Skinning up Glory requires enough movement without your boxers deciding to poach their own route. The form-fitting Active Sport Boxer Briefs are made from breathable 93% polyester (71% recycled) fabric that's fast-wicking, dries quickly and has 7% spandex for stretch; the seamless waistband and soft leg edges won't roll or bind. The gusseted, flat-sewn 6\" inseam (size M) is offset to prevent inner-thigh chafe. Fly-free with a smooth front panel. Recyclable through the Common Threads Recycling Program.<br><br><b>Details:</b><ul> <li>\"Stretch mesh provides support, open-weave mesh for airflow, wicks efficiently, dries fast\"</li> <li>Seamless construction</li> <li>\"Flat-sewn, gusseted inseam is set forward to prevent inner-thigh chafe\"</li> <li>Fly-free support</li> <li>\"Inseam (size M) is 6\"\"\"</li></ul><br><br><b>Fabric: </b>\"4.6-oz 93% polyester (71% recycled)/7% spandex, with moisture-wicking performance. Recyclable through the Common Threads Recycling Program\"<br><br><b>Weight: </b>(60 g 2.1 oz)<br><br>Made in Israel.\n",
      "\n",
      "similar item id:  2\n",
      "cosine similarity:  0.4181663992161579\n",
      "item description:  Active sport briefs - These superbreathable no-fly briefs are the minimalist's choice for high-octane endeavors. Made from a blend of fast-wicking, quick-drying 93% polyester (71% recycled) and 7% spandex that has both stretch-mesh (for support) and open mesh (for cooling airflow). Soft edging at the leg openings and a seamless waist won't roll or create friction against layers. With a smooth front panel for opacity. Recyclable through the Common Threads Recycling Program.<br><br><b>Details:</b><ul> <li>\"Stretch mesh provides support, open-weave mesh for airflow, wicks efficiently and dries fast\"</li> <li>Seamless construction</li> <li>Leg openings have half-inch self-binding for comfort</li> <li>Fly-free support</li></ul><br><br><b>Fabric: </b>\"4.6-oz 93% polyester (71% recycled)/7% spandex, with moisture-wicking performance. Recyclable through the Common Threads Recycling Program\"<br><br><b>Weight: </b>(49 g 1.7 oz)<br><br>Made in Israel.\n",
      "\n",
      "similar item id:  18\n",
      "cosine similarity:  0.11546382098627586\n",
      "item description:  Cap 1 boxer briefs - On bivy or belay, the form-fitting Capilene 1 Boxer Briefs stay dry and comfortable. Made from 100% recycled polyester, the underwear excels at moisture-wicking and has Gladiodor natural odor control for the garment. Exposed elastic waistband is brushed for softness; the hem is coverstitched for a smooth glide beneath shorts or pants. Fully-functioning fly and supportive front panel keep you covered. 5 1/2\" inseam (size M). Recyclable through the Common Threads Recycling Program.<br><br><b>Details:</b><ul> <li>Moisture-wicking Capilene 1 fabric with Gladiodor for exceptional next-to-skin comfort and natural odor control for the garment</li> <li>Brushed elastic waistband</li> <li>Supportive front panel</li> <li>\"Cover-stitched hem for smooth glide under shorts or pants, won't restrict mobility\"</li> <li>\"Inseam (size M) is 5 1/2\"\"\"</li></ul><br><br><b>Fabric: </b>3.7-oz 100% all-recycled polyester with Gladiodor&#174; natural odor control for the garment. Recyclable through the Common Threads Recycling Program<br><br><b>Weight: </b>(72 g 2.5 oz)<br><br>Made in USA.\n",
      "\n",
      "similar item id:  493\n",
      "cosine similarity:  0.11303392245400203\n",
      "item description:  Active boxer briefs - A no-fuss travel companion, these skivvies love sink and creek baths, and they dry in a flash. The quick-wicking underwear breathes exceptionally well, keeping you comfortable in any condition. An exposed elastic waistband is brushed for no-chafe softness; the hem is coverstitched for a smooth glide beneath shorts or pants. With a 5 1/2\" inseam (size M) an easy-access fly and a supportive front panel. Made from 100% polyester (54% recycled) with moisture-wicking performance. Recyclable through the Common Threads Recycling Program.<br><br><b>Details:</b><ul> <li>Moisture-wicking Capilene 2 fabric with an open-knit weave for breathability</li> <li>Brushed elastic waistband for next-to-skin softness</li> <li>Supportive front panel</li> <li>\"Cover-stitched hem for smooth glide under shorts or pants, won't restrict mobility\"</li> <li>\"Inseam (size M) is 5 1/2\"\"\"</li></ul><br><br><b>Fabric: </b>4-oz 100% polyester (54% recycled) with Gladiodor natural odor control for the garment. Recyclable through the Common Threads Recycling Program<br><br><b>Weight: </b>(72 g 2.5 oz)<br><br>Made in USA.\n",
      "\n",
      "similar item id:  299\n",
      "cosine similarity:  0.11247854521091638\n",
      "item description:  Active briefs - Whether you're beating the heat in Bali or skinning up your favorite cirque, these ultrasoft, lightweight briefs provide exceptional stretch and moisture-management for keeping you comfortable and dry. They also glide easily beneath layers. A seamless waistband lies flat and won't roll or bind; newly redesigned single-sided leg binding stays put and is low-profile. With a breathable mini-rib crotch. Solids and prints: 4.6-oz 96% nylon/4% spandex. Stripes: 5.6-oz 93% polyester (58% recycled)/7% spandex.<br><br><b>Details:</b><ul> <li>\"Ultrasoft, lightweight fabric with stretch and moisture management\"</li> <li>\"Seamless waistband lies flat, won't roll or bind, breathable mini-rib crotch, soft, single-sided binding at leg openings wont chafe or creep\"</li></ul><br><br><b>Fabric: </b>Solids and prints: 4.6-oz 96% nylon/4% spandex. Stripes: 5.6-oz 94% polyester (58% recycled)/7% spandex. All with moisture-wicking performance<br><br><b>Weight: </b>(28 g 1 oz)<br><br>Made in Israel.\n",
      "\n"
     ]
    }
   ],
   "source": [
    "def get_similarity_items(X_tfidf, item_id, topn=5):\n",
    "    \"\"\"\n",
    "    Get the top similar items for a given item id.\n",
    "    The similarity measure here is based on cosine distance.\n",
    "    \"\"\"\n",
    "    query = X_tfidf[item_id]\n",
    "    scores = X_tfidf.dot(query.T).toarray().ravel()\n",
    "    best = np.argpartition(scores, -topn)[-topn:]\n",
    "    return sorted(zip(best, scores[best]), key=lambda x: -x[1])\n",
    "\n",
    "\n",
    "similar_items = get_similarity_items(X_tfidf, item_id=1)\n",
    "\n",
    "# an item is always most similar to itself, in real-world\n",
    "# scenario we might want to filter itself out from the output\n",
    "for similar_item, similarity in similar_items:\n",
    "    item_description = df.loc[similar_item, 'description']\n",
    "    print('similar item id: ', similar_item)\n",
    "    print('cosine similarity: ', similarity)\n",
    "    print('item description: ', item_description)\n",
    "    print()"
   ]
  },
  {
   "cell_type": "markdown",
   "metadata": {},
   "source": [
    "Hopefully, we can sort of agree that the result reflects our intuition. Given a item, Active sport boxer briefs, the content-based filtering method based on the item's description in tfidf-representation recommends items such as Active sport briefs, Cap 1 boxer briefs which are all underwear-related products.\n",
    "\n",
    "To generate the similar items, the approach we're using here is calculating the cosine distance between our query item and all the other items in our data, then sorting the distance to find the most similar items. This approach might work well for a small dataset, however, as we can imagine this procedure might become a bottleneck to our system as the data points starts to increase, and in near-real time systems where there's a strict latency requirements, this method is most likely not going to cut it."
   ]
  },
  {
   "cell_type": "markdown",
   "metadata": {},
   "source": [
    "## Getting Started with LSH"
   ]
  },
  {
   "cell_type": "markdown",
   "metadata": {},
   "source": [
    "The idea behind LSH is to throw down random lines/vectors. Yes, you are reading it correctly. Then everything that falls below this line has a negative score and will fall into what we'll be referring to as bin 0. On the other hand, everything that's above this line has a positive score and all of those points will be assigned to bin 1. So we're essentially translating the sign of the scores into a binary index. \n",
    "\n",
    "For example, in the picture above, the orange data point falls above the random vector and we'll label it as a white bin. Then we can use this for nearest neighbor search in the following way: Given a query data point, say it also falls above the random vector, then we will only search for the nearest neighbor amongst the data points that also fall above the random vector, or another way to put it, we will only search amongst the data points that also fall under the same bin.\n",
    "\n",
    "If we think about this carefully, the main rationale behind locality sensitive hashing is data points that are located close to each other should be mapped to similar hashes (in same bin/bucket with high probability). i.e. in our made-up example, data points that are close to the orange data point should fall in the same bin, whereas data points that are far away should fall in different bin. However, because of the randomness, it is not likely that all similar items are grouped correctly. Hence, to overcome this limitation, a common practice is to create multiple random vectors.\n",
    "\n",
    "e.g. Say we throw down another random vector, this time the orange data point falls under this random vector, thus it falls under a different bin (black bin instead of white).\n",
    "\n",
    "\n",
    "Since, each bin is represented by a bitwise hash value, which is a number made up of a sequence of 1s and 0s. e.g. for this orange data point, if we consider the white bin as 0 and the black bin as 1, then this data point's bin will be represented by [0, 1].\n",
    "\n",
    "Let's use some code to illustrate this process. Our first step is to generate a collection of random vectors from the standard Gaussian distribution."
   ]
  },
  {
   "cell_type": "code",
   "execution_count": 5,
   "metadata": {},
   "outputs": [],
   "source": [
    "def generate_random_vectors(dim, n_vectors):\n",
    "    \"\"\"\n",
    "    generate random projection vectors\n",
    "    the dims comes first in the matrix's shape,\n",
    "    so we can use it for matrix multiplication.\n",
    "    \"\"\"\n",
    "    return np.random.randn(dim, n_vectors)"
   ]
  },
  {
   "cell_type": "markdown",
   "metadata": {},
   "source": [
    "We now generate random vectors of the same dimensionality as our vocabulary size.  Each vector can be used to compute one bit in the bin encoding. We generate 16 vectors, leading to a 16-bit encoding of the bin index for each document. Note that 16 is a hyperparamter, we will look into this adjustable parameter in later section."
   ]
  },
  {
   "cell_type": "code",
   "execution_count": 6,
   "metadata": {},
   "outputs": [
    {
     "name": "stdout",
     "output_type": "stream",
     "text": [
      "vocabulary size:  52262\n",
      "dimension:  (52262, 16)\n"
     ]
    },
    {
     "data": {
      "text/plain": [
       "array([[ 1.76405235,  0.40015721,  0.97873798, ...,  0.12167502,\n",
       "         0.44386323,  0.33367433],\n",
       "       [ 1.49407907, -0.20515826,  0.3130677 , ...,  1.46935877,\n",
       "         0.15494743,  0.37816252],\n",
       "       [-0.88778575, -1.98079647, -0.34791215, ..., -0.4380743 ,\n",
       "        -1.25279536,  0.77749036],\n",
       "       ...,\n",
       "       [-0.13430852, -2.40513172, -0.15499143, ..., -0.6048063 ,\n",
       "        -0.10716926, -0.25638226],\n",
       "       [ 2.67330814,  0.87243643, -0.12795915, ...,  0.82403241,\n",
       "         1.4171818 ,  0.81563705],\n",
       "       [-0.38178352,  2.22187987, -0.6359808 , ...,  0.50846758,\n",
       "         1.50555612,  0.22746407]])"
      ]
     },
     "execution_count": 6,
     "metadata": {},
     "output_type": "execute_result"
    }
   ],
   "source": [
    "vocab_size = len(tfidf.get_feature_names())\n",
    "print('vocabulary size: ', vocab_size)\n",
    "\n",
    "np.random.seed(0)\n",
    "n_vectors = 16\n",
    "random_vectors = generate_random_vectors(vocab_size, n_vectors)\n",
    "print('dimension: ', random_vectors.shape)\n",
    "random_vectors"
   ]
  },
  {
   "cell_type": "markdown",
   "metadata": {},
   "source": [
    "Next, we'd like to decide which bin each documents should go. Since 16 random vectors were generated in the previous cell, we have 16 bits to represent the bin index. The first bit is given by the sign of the dot product between the first random vector and the document's TF-IDF vector, and so on."
   ]
  },
  {
   "cell_type": "code",
   "execution_count": 7,
   "metadata": {},
   "outputs": [
    {
     "name": "stdout",
     "output_type": "stream",
     "text": [
      "dimension:  (1, 16)\n"
     ]
    },
    {
     "data": {
      "text/plain": [
       "array([[False, False, False, False, False, False,  True,  True,  True,\n",
       "        False, False,  True, False, False, False, False]])"
      ]
     },
     "execution_count": 7,
     "metadata": {},
     "output_type": "execute_result"
    }
   ],
   "source": [
    "# use one data point's tfidf representation as an example\n",
    "data_point = X_tfidf[0]\n",
    "\n",
    "# True if positive sign; False if negative sign\n",
    "bin_indices_bits = data_point.dot(random_vectors) >= 0\n",
    "print('dimension: ', bin_indices_bits.shape)\n",
    "bin_indices_bits"
   ]
  },
  {
   "cell_type": "markdown",
   "metadata": {},
   "source": [
    "All documents that obtain exactly this vector will be assigned to the same bin. One further preprocessing step we'll perform is to convert this resulting bin into integer representation. This makes it convenient for us to refer to individual bins. \n",
    "\n",
    "```\n",
    "Bin index                      integer\n",
    "[0,0,0,0,0,0,0,0,0,0,0,0]   => 0\n",
    "[0,0,0,0,0,0,0,0,0,0,0,1]   => 1\n",
    "[0,0,0,0,0,0,0,0,0,0,1,0]   => 2\n",
    "[0,0,0,0,0,0,0,0,0,0,1,1]   => 3\n",
    "...\n",
    "[1,1,1,1,1,1,1,1,1,1,0,0]   => 65532\n",
    "[1,1,1,1,1,1,1,1,1,1,0,1]   => 65533\n",
    "[1,1,1,1,1,1,1,1,1,1,1,0]   => 65534\n",
    "[1,1,1,1,1,1,1,1,1,1,1,1]   => 65535 (= 2^16-1)\n",
    "```\n",
    "\n",
    "By the [rules of binary number representation](https://en.wikipedia.org/wiki/Binary_number#Decimal), to perform the conversion, we can compute the dot product between the document vector and the vector consisting of powers of 2:"
   ]
  },
  {
   "cell_type": "code",
   "execution_count": 8,
   "metadata": {},
   "outputs": [
    {
     "name": "stdout",
     "output_type": "stream",
     "text": [
      "[32768 16384  8192  4096  2048  1024   512   256   128    64    32    16\n",
      "     8     4     2     1]\n",
      "[912]\n"
     ]
    }
   ],
   "source": [
    "bin_indices_bits = data_point.dot(random_vectors) >= 0\n",
    "\n",
    "# https://wiki.python.org/moin/BitwiseOperators\n",
    "# x << y is the same as multiplying x by 2 ** y\n",
    "powers_of_two = 1 << np.arange(n_vectors - 1, -1, step=-1)\n",
    "print(powers_of_two)\n",
    "\n",
    "# final integer representation of individual bins\n",
    "bin_indices = bin_indices_bits.dot(powers_of_two)\n",
    "print(bin_indices)"
   ]
  },
  {
   "cell_type": "markdown",
   "metadata": {},
   "source": [
    "We can repeat the identical operation on all documents in our dataset and compute the corresponding bin. We'll again leverage matrix operations so that no explicit loop is needed."
   ]
  },
  {
   "cell_type": "code",
   "execution_count": 9,
   "metadata": {},
   "outputs": [
    {
     "name": "stdout",
     "output_type": "stream",
     "text": [
      "(500, 16)\n"
     ]
    },
    {
     "data": {
      "text/plain": [
       "(500,)"
      ]
     },
     "execution_count": 9,
     "metadata": {},
     "output_type": "execute_result"
    }
   ],
   "source": [
    "# we can do it for the entire corpus\n",
    "bin_indices_bits = X_tfidf.dot(random_vectors) >= 0\n",
    "print(bin_indices_bits.shape)\n",
    "bin_indices = bin_indices_bits.dot(powers_of_two)\n",
    "bin_indices.shape"
   ]
  },
  {
   "cell_type": "markdown",
   "metadata": {},
   "source": [
    "The resulting array gives us the integer index of the bins for all documents.\n",
    "\n",
    "Now we are ready to complete the following function. Given the integer bin indices for the documents, we would curate the list of document IDs that belong to each bin. Since a list is to be maintained for each unique bin index, a dictionary of lists is used."
   ]
  },
  {
   "cell_type": "code",
   "execution_count": 10,
   "metadata": {},
   "outputs": [],
   "source": [
    "from collections import defaultdict\n",
    "\n",
    "\n",
    "def train_lsh(X_tfidf, n_vectors, seed=None):    \n",
    "    if seed is not None:\n",
    "        np.random.seed(seed)\n",
    "\n",
    "    dim = X_tfidf.shape[1]\n",
    "    random_vectors = generate_random_vectors(dim, n_vectors)  \n",
    "\n",
    "    # partition data points into bins,\n",
    "    # and encode bin index bits into integers\n",
    "    bin_indices_bits = X_tfidf.dot(random_vectors) >= 0\n",
    "    powers_of_two = 1 << np.arange(n_vectors - 1, -1, step=-1)\n",
    "    bin_indices = bin_indices_bits.dot(powers_of_two)\n",
    "\n",
    "    # update `table` so that `table[i]` is the list of document ids with bin index equal to i\n",
    "    table = defaultdict(list)\n",
    "    for idx, bin_index in enumerate(bin_indices):\n",
    "        table[bin_index].append(idx)\n",
    "    \n",
    "    # note that we're storing the bin_indices here\n",
    "    # so we can do some ad-hoc checking with it,\n",
    "    # this isn't actually required\n",
    "    model = {'table': table,\n",
    "             'random_vectors': random_vectors,\n",
    "             'bin_indices': bin_indices,\n",
    "             'bin_indices_bits': bin_indices_bits}\n",
    "    return model\n",
    "\n",
    "\n",
    "# train the model\n",
    "n_vectors = 16\n",
    "model = train_lsh(X_tfidf, n_vectors, seed=143)"
   ]
  },
  {
   "cell_type": "markdown",
   "metadata": {},
   "source": [
    "After generating our LSH model, let's examine the generated bins to get a deeper understanding of them. Recall that during the background section, given a product's tfidf vector representation, we were able to find its similar product using standard cosine similarity. Here, we will look at these similar products' bins to see if the result matches intuition. Remember the idea behind LSH is that similar data points will tend to fall into nearby bins."
   ]
  },
  {
   "cell_type": "code",
   "execution_count": 11,
   "metadata": {},
   "outputs": [
    {
     "name": "stdout",
     "output_type": "stream",
     "text": [
      "bits 1:  [ True False False  True  True  True  True False False  True  True False\n",
      " False  True  True False]\n",
      "bits 2:  [ True False False False False False  True False False  True False False\n",
      "  True  True  True False]\n",
      "Number of agreed bins:  11\n"
     ]
    }
   ],
   "source": [
    "# comparison\n",
    "similar_item_ids = [similar_item for similar_item, _ in similar_items]\n",
    "bits1 = model['bin_indices_bits'][similar_item_ids[0]]\n",
    "bits2 = model['bin_indices_bits'][similar_item_ids[1]]\n",
    "\n",
    "print('bits 1: ', bits1)\n",
    "print('bits 2: ', bits2)\n",
    "print('Number of agreed bins: ', np.sum(bits1 == bits2))"
   ]
  },
  {
   "cell_type": "code",
   "execution_count": 12,
   "metadata": {},
   "outputs": [
    {
     "name": "stdout",
     "output_type": "stream",
     "text": [
      "bits 1:  [ True False False  True  True  True  True False False  True  True False\n",
      " False  True  True False]\n",
      "bits 2:  [False  True  True False False  True  True False  True False False False\n",
      " False False  True  True]\n",
      "Number of agreed bins:  6\n"
     ]
    }
   ],
   "source": [
    "# comparison\n",
    "bits1 = model['bin_indices_bits'][similar_item_ids[0]]\n",
    "bits2 = model['bin_indices_bits'][similar_item_ids[4]]\n",
    "\n",
    "print('bits 1: ', bits1)\n",
    "print('bits 2: ', bits2)\n",
    "print('Number of agreed bins: ', np.sum(bits1 == bits2))"
   ]
  },
  {
   "cell_type": "markdown",
   "metadata": {},
   "source": [
    "Looking at the result above, it does seem like LSH is doing what its intended to do: i.e., similar data points will agree upon more bin indices than dissimilar data points, however, in a high-dimensional space such as text features, we can get unlucky with our selection of only a few random vectors such that dissimilar data points go into the same bin while similar data points fall into different bins. Hence, given a query document, we should consider all documents in the nearby bins and sort them according to their actual distances from the query."
   ]
  },
  {
   "cell_type": "markdown",
   "metadata": {},
   "source": [
    "## Querying the LSH model"
   ]
  },
  {
   "cell_type": "markdown",
   "metadata": {},
   "source": [
    "Let's first implement the logic for searching nearby neighbors, which goes like this:\n",
    "\n",
    "\n",
    "1. Let L be the bit representation of the bin that contains the query documents.\n",
    "2. Consider all documents in bin L.\n",
    "3. Consider documents in the bins whose bit representation differs from L by 1 bit.\n",
    "4. Consider documents in the bins whose bit representation differs from L by 2 bits, and so on ...\n",
    "\n",
    "\n",
    "To obtain candidate bins that differ from the query bin by some number of bits, we use `itertools.combinations`, which produces all possible subsets of a given list. See [this documentation](https://docs.python.org/3/library/itertools.html#itertools.combinations) for details.\n",
    "\n",
    "\n",
    "1. Decide on the search radius r. This will determine the number of different bits between the two vectors.\n",
    "2. For each subset (n_1, n_2, ..., n_r) of the list [0, 1, 2, ..., n_vectors-1], do the following:\n",
    "   * Flip the bits (n_1, n_2, ..., n_r) of the query bin to produce a new bit vector.\n",
    "   * Fetch the list of documents belonging to the bin indexed by the new bit vector.\n",
    "   * Add those documents to the candidate set."
   ]
  },
  {
   "cell_type": "code",
   "execution_count": 13,
   "metadata": {},
   "outputs": [],
   "source": [
    "from itertools import combinations\n",
    "\n",
    "\n",
    "def search_nearby_bins(query_bin_bits, table, search_radius=3, candidate_set=None):\n",
    "    \"\"\"\n",
    "    For a given query vector and trained LSH model's table\n",
    "    return all candidate neighbors with the specified search radius.\n",
    "    \n",
    "    Example\n",
    "    -------\n",
    "    model = train_lsh(X_tfidf, n_vectors=16, seed=143)\n",
    "    query = model['bin_index_bits'][0]  # vector for the first document\n",
    "    candidates = search_nearby_bins(query, model['table'])\n",
    "    \"\"\"\n",
    "    if candidate_set is None:\n",
    "        candidate_set = set()\n",
    "\n",
    "    n_vectors = query_bin_bits.shape[0]\n",
    "    powers_of_two = 1 << np.arange(n_vectors - 1, -1, step=-1)\n",
    "\n",
    "    for different_bits in combinations(range(n_vectors), search_radius):\n",
    "        # flip the bits (n_1, n_2, ..., n_r) of the query bin to produce a new bit vector\n",
    "        index = list(different_bits)\n",
    "        alternate_bits = query_bin_bits.copy()\n",
    "        alternate_bits[index] = np.logical_not(alternate_bits[index])\n",
    "\n",
    "        # convert the new bit vector to an integer index\n",
    "        nearby_bin = alternate_bits.dot(powers_of_two)\n",
    "\n",
    "        # fetch the list of documents belonging to\n",
    "        # the bin indexed by the new bit vector,\n",
    "        # then add those documents to candidate_set;\n",
    "        # make sure that the bin exists in the table\n",
    "        if nearby_bin in table:\n",
    "            candidate_set.update(table[nearby_bin])\n",
    "\n",
    "    return candidate_set"
   ]
  },
  {
   "cell_type": "markdown",
   "metadata": {},
   "source": [
    "The next code chunk uses this searching for nearby bins logic to search for similar documents and return a dataframe that contains the most similar data points according to LSH and their corresponding distances."
   ]
  },
  {
   "cell_type": "code",
   "execution_count": 14,
   "metadata": {},
   "outputs": [],
   "source": [
    "from sklearn.metrics.pairwise import pairwise_distances\n",
    "\n",
    "\n",
    "def get_nearest_neighbors(X_tfidf, query_vector, model, max_search_radius=3):\n",
    "    table = model['table']\n",
    "    random_vectors = model['random_vectors']\n",
    "\n",
    "    # compute bin index for the query vector, in bit representation.\n",
    "    bin_index_bits = np.ravel(query_vector.dot(random_vectors) >= 0)\n",
    "\n",
    "    # search nearby bins and collect candidates\n",
    "    candidate_set = set()\n",
    "    for search_radius in range(max_search_radius + 1):\n",
    "        candidate_set = search_nearby_bins(bin_index_bits, table, search_radius, candidate_set)\n",
    "\n",
    "    # sort candidates by their true distances from the query\n",
    "    candidate_list = list(candidate_set)\n",
    "    candidates = X_tfidf[candidate_list]\n",
    "    distance = pairwise_distances(candidates, query_vector, metric='cosine').flatten()\n",
    "    \n",
    "    distance_col = 'distance'\n",
    "    nearest_neighbors = pd.DataFrame({\n",
    "        'id': candidate_list, distance_col: distance\n",
    "    }).sort_values(distance_col).reset_index(drop=True)\n",
    "    return nearest_neighbors"
   ]
  },
  {
   "cell_type": "code",
   "execution_count": 15,
   "metadata": {},
   "outputs": [
    {
     "name": "stdout",
     "output_type": "stream",
     "text": [
      "original similar items:\n",
      "[(1, 1.0000000000000029), (2, 0.4181663992161579), (18, 0.11546382098627586), (493, 0.11303392245400203), (299, 0.11247854521091638)]\n",
      "dimension:  (67, 2)\n"
     ]
    },
    {
     "data": {
      "text/html": [
       "<style scoped>\n",
       "    .dataframe tbody tr th:only-of-type {\n",
       "        vertical-align: middle;\n",
       "    }\n",
       "\n",
       "    .dataframe tbody tr th {\n",
       "        vertical-align: top;\n",
       "    }\n",
       "\n",
       "    .dataframe thead th {\n",
       "        text-align: right;\n",
       "    }\n",
       "</style>\n",
       "<table border=\"1\" class=\"dataframe\">\n",
       "  <thead>\n",
       "    <tr style=\"text-align: right;\">\n",
       "      <th></th>\n",
       "      <th>id</th>\n",
       "      <th>distance</th>\n",
       "    </tr>\n",
       "  </thead>\n",
       "  <tbody>\n",
       "    <tr>\n",
       "      <th>0</th>\n",
       "      <td>1</td>\n",
       "      <td>2.220446e-16</td>\n",
       "    </tr>\n",
       "    <tr>\n",
       "      <th>1</th>\n",
       "      <td>2</td>\n",
       "      <td>5.818336e-01</td>\n",
       "    </tr>\n",
       "    <tr>\n",
       "      <th>2</th>\n",
       "      <td>317</td>\n",
       "      <td>9.008780e-01</td>\n",
       "    </tr>\n",
       "    <tr>\n",
       "      <th>3</th>\n",
       "      <td>213</td>\n",
       "      <td>9.117783e-01</td>\n",
       "    </tr>\n",
       "    <tr>\n",
       "      <th>4</th>\n",
       "      <td>272</td>\n",
       "      <td>9.173818e-01</td>\n",
       "    </tr>\n",
       "  </tbody>\n",
       "</table>\n",
""      ],
      "text/plain": [
       "    id      distance\n",
       "0    1  2.220446e-16\n",
       "1    2  5.818336e-01\n",
       "2  317  9.008780e-01\n",
       "3  213  9.117783e-01\n",
       "4  272  9.173818e-01"
      ]
     },
     "execution_count": 15,
     "metadata": {},
     "output_type": "execute_result"
    }
   ],
   "source": [
    "print('original similar items:\\n' + str(similar_items))\n",
    "\n",
    "item_id = 1\n",
    "query_vector = X_tfidf[item_id]\n",
    "nearest_neighbors = get_nearest_neighbors(X_tfidf, query_vector, model, max_search_radius=5)\n",
    "print('dimension: ', nearest_neighbors.shape)\n",
    "nearest_neighbors.head()"
   ]
  },
  {
   "cell_type": "markdown",
   "metadata": {},
   "source": [
    "We can observe from the result above that when we use a max_search_radius of 5, our LSH-based similarity search wasn't capable of retrieving the actual most similar items to our target data point, this is expected as we have mentioned LSH is an approximate nearest neighborhood search method. However, if we were to increase the radius parameter to 10, we can in fact retrieve all the actual most similar items."
   ]
  },
  {
   "cell_type": "code",
   "execution_count": 16,
   "metadata": {},
   "outputs": [
    {
     "name": "stdout",
     "output_type": "stream",
     "text": [
      "dimension:  (455, 2)\n"
     ]
    },
    {
     "data": {
      "text/html": [
       "<style scoped>\n",
       "    .dataframe tbody tr th:only-of-type {\n",
       "        vertical-align: middle;\n",
       "    }\n",
       "\n",
       "    .dataframe tbody tr th {\n",
       "        vertical-align: top;\n",
       "    }\n",
       "\n",
       "    .dataframe thead th {\n",
       "        text-align: right;\n",
       "    }\n",
       "</style>\n",
       "<table border=\"1\" class=\"dataframe\">\n",
       "  <thead>\n",
       "    <tr style=\"text-align: right;\">\n",
       "      <th></th>\n",
       "      <th>id</th>\n",
       "      <th>distance</th>\n",
       "    </tr>\n",
       "  </thead>\n",
       "  <tbody>\n",
       "    <tr>\n",
       "      <th>0</th>\n",
       "      <td>1</td>\n",
       "      <td>2.220446e-16</td>\n",
       "    </tr>\n",
       "    <tr>\n",
       "      <th>1</th>\n",
       "      <td>2</td>\n",
       "      <td>5.818336e-01</td>\n",
       "    </tr>\n",
       "    <tr>\n",
       "      <th>2</th>\n",
       "      <td>18</td>\n",
       "      <td>8.845362e-01</td>\n",
       "    </tr>\n",
       "    <tr>\n",
       "      <th>3</th>\n",
       "      <td>493</td>\n",
       "      <td>8.869661e-01</td>\n",
       "    </tr>\n",
       "    <tr>\n",
       "      <th>4</th>\n",
       "      <td>299</td>\n",
       "      <td>8.875215e-01</td>\n",
       "    </tr>\n",
       "  </tbody>\n",
       "</table>\n",
""      ],
      "text/plain": [
       "    id      distance\n",
       "0    1  2.220446e-16\n",
       "1    2  5.818336e-01\n",
       "2   18  8.845362e-01\n",
       "3  493  8.869661e-01\n",
       "4  299  8.875215e-01"
      ]
     },
     "execution_count": 16,
     "metadata": {},
     "output_type": "execute_result"
    }
   ],
   "source": [
    "nearest_neighbors = get_nearest_neighbors(X_tfidf, query_vector, model, max_search_radius=10)\n",
    "print('dimension: ', nearest_neighbors.shape)\n",
    "nearest_neighbors.head()"
   ]
  },
  {
   "cell_type": "code",
   "execution_count": 17,
   "metadata": {},
   "outputs": [
    {
     "data": {
      "text/html": [
       "<style scoped>\n",
       "    .dataframe tbody tr th:only-of-type {\n",
       "        vertical-align: middle;\n",
       "    }\n",
       "\n",
       "    .dataframe tbody tr th {\n",
       "        vertical-align: top;\n",
       "    }\n",
       "\n",
       "    .dataframe thead th {\n",
       "        text-align: right;\n",
       "    }\n",
       "</style>\n",
       "<table border=\"1\" class=\"dataframe\">\n",
       "  <thead>\n",
       "    <tr style=\"text-align: right;\">\n",
       "      <th></th>\n",
       "      <th>id</th>\n",
       "      <th>distance</th>\n",
       "      <th>description</th>\n",
       "    </tr>\n",
       "  </thead>\n",
       "  <tbody>\n",
       "    <tr>\n",
       "      <th>0</th>\n",
       "      <td>1</td>\n",
       "      <td>2.220446e-16</td>\n",
       "      <td>Active classic boxers - There's a reason why o...</td>\n",
       "    </tr>\n",
       "    <tr>\n",
       "      <th>1</th>\n",
       "      <td>2</td>\n",
       "      <td>5.818336e-01</td>\n",
       "      <td>Active sport boxer briefs - Skinning up Glory ...</td>\n",
       "    </tr>\n",
       "    <tr>\n",
       "      <th>2</th>\n",
       "      <td>18</td>\n",
       "      <td>8.845362e-01</td>\n",
       "      <td>Cap 1 bottoms - Spring skiing is as transient ...</td>\n",
       "    </tr>\n",
       "    <tr>\n",
       "      <th>3</th>\n",
       "      <td>493</td>\n",
       "      <td>8.869661e-01</td>\n",
       "      <td>'73 logo t-shirt - Patagonia's timeless '73 Lo...</td>\n",
       "    </tr>\n",
       "    <tr>\n",
       "      <th>4</th>\n",
       "      <td>299</td>\n",
       "      <td>8.875215e-01</td>\n",
       "      <td>Active boy shorts - We've worn these versatile...</td>\n",
       "    </tr>\n",
       "  </tbody>\n",
       "</table>\n",
""      ],
      "text/plain": [
       "    id      distance                                        description\n",
       "0    1  2.220446e-16  Active classic boxers - There's a reason why o...\n",
       "1    2  5.818336e-01  Active sport boxer briefs - Skinning up Glory ...\n",
       "2   18  8.845362e-01  Cap 1 bottoms - Spring skiing is as transient ...\n",
       "3  493  8.869661e-01  '73 logo t-shirt - Patagonia's timeless '73 Lo...\n",
       "4  299  8.875215e-01  Active boy shorts - We've worn these versatile..."
      ]
     },
     "execution_count": 17,
     "metadata": {},
     "output_type": "execute_result"
    }
   ],
   "source": [
    "# we can perform a join with the original table to get the description\n",
    "# for sanity checking purpose\n",
    "nearest_neighbors.head().merge(df, on='id', how='inner')"
   ]
  },
  {
   "cell_type": "markdown",
   "metadata": {},
   "source": [
    "## Experimenting with LSH"
   ]
  },
  {
   "cell_type": "markdown",
   "metadata": {},
   "source": [
    "In the following sections we have implemented a few experiments so we can gain some intuition as to how LSH behaves in different situations. This will help us understand the effect of searching nearby bins and the performance of LSH versus computing nearest neighbors using a brute force search.\n",
    "\n",
    "The first experiment that we'll be looking at is the **effect of nearby bin search**.\n",
    "\n",
    "How does nearby bin search affect the three variables that are tied to the search radius:\n",
    "\n",
    "- Number of candidate documents considered\n",
    "- Query time\n",
    "- Distance of approximate neighbors from the query\n",
    "\n",
    "Let's run LSH multiple times, each with different radius for nearby bin search. We will keep track of the three variables that were discussed above."
   ]
  },
  {
   "cell_type": "code",
   "execution_count": 18,
   "metadata": {},
   "outputs": [],
   "source": [
    "import time\n",
    "\n",
    "query_time_history = []\n",
    "num_candidates_history = []\n",
    "max_distance_history = []\n",
    "min_distance_history = []\n",
    "average_distance_history = []\n",
    "\n",
    "topn = 5\n",
    "query_vector = X_tfidf[1]\n",
    "for max_search_radius in range(12):\n",
    "    start = time.time()  \n",
    "    nearest_neighbors = get_nearest_neighbors(X_tfidf, query_vector, model, max_search_radius)\n",
    "    end = time.time()\n",
    "    query_time = end - start\n",
    "\n",
    "    # the closest neighbor is the query point itself, thus\n",
    "    # we'll exclude it from the calculation\n",
    "    distances = nearest_neighbors['distance'].iloc[1:].head(topn)\n",
    "    max_distance = distances.max()\n",
    "    min_distance = distances.min()\n",
    "    average_distance = distances.mean()\n",
    "    num_candidates = nearest_neighbors.shape[0]\n",
    "\n",
    "    query_time_history.append(query_time)\n",
    "    num_candidates_history.append(num_candidates) \n",
    "    max_distance_history.append(max_distance)\n",
    "    min_distance_history.append(min_distance)\n",
    "    average_distance_history.append(average_distance)"
   ]
  },
  {
   "cell_type": "code",
   "execution_count": 19,
   "metadata": {},
   "outputs": [
    {
     "data": {
      "image/png": "[encoded data removed]",
      "text/plain": [
       "<Figure size 576x432 with 1 Axes>"
      ]
     },
     "metadata": {
      "needs_background": "light"
     },
     "output_type": "display_data"
    },
    {
     "data": {
      "image/png": "[encoded data removed]",
      "text/plain": [
       "<Figure size 576x432 with 1 Axes>"
      ]
     },
     "metadata": {
      "needs_background": "light"
     },
     "output_type": "display_data"
    },
    {
     "data": {
      "image/png": "[encoded data removed]",
      "text/plain": [
       "<Figure size 576x432 with 1 Axes>"
      ]
     },
     "metadata": {
      "needs_background": "light"
     },
     "output_type": "display_data"
    }
   ],
   "source": [
    "# change default style figure and font size\n",
    "plt.rcParams['figure.figsize'] = 8, 6\n",
    "plt.rcParams['font.size'] = 12\n",
    "\n",
    "\n",
    "linewidth = 4\n",
    "plt.figure()\n",
    "plt.plot(num_candidates_history, linewidth=4)\n",
    "plt.xlabel('Search radius')\n",
    "plt.ylabel('# of documents searched')\n",
    "plt.tight_layout()\n",
    "\n",
    "plt.figure()\n",
    "plt.plot(query_time_history, linewidth=linewidth)\n",
    "plt.xlabel('Search radius')\n",
    "plt.ylabel('Query time (seconds)')\n",
    "plt.tight_layout()\n",
    "\n",
    "plt.figure()\n",
    "plt.plot(average_distance_history, linewidth=linewidth, label='Average of 10 neighbors')\n",
    "plt.plot(max_distance_history, linewidth=linewidth, label='Farthest of 10 neighbors')\n",
    "plt.plot(min_distance_history, linewidth=linewidth, label='Closest of 10 neighbors')\n",
    "plt.xlabel('Search radius')\n",
    "plt.ylabel('Cosine distance of neighbors')\n",
    "plt.legend(loc='best')\n",
    "plt.tight_layout()"
   ]
  },
  {
   "cell_type": "markdown",
   "metadata": {},
   "source": [
    "Some observations:\n",
    "\n",
    "- As we increase the search radius, we find more neighbors that are a smaller distance away.\n",
    "- With increased search radius comes a greater number documents that have to be searched. Query time is higher as a consequence.\n",
    "- With sufficiently high search radius, the results of LSH begin to resemble the results of brute-force search.\n",
    "\n",
    "The next experiment that we'll be conducting is one that we are probably most interested in: **Quality metrics for neighbors**. Since LSH is an approximate nearest neighborhood method, often times, we would like to have a metric such as precision or recall to measure the quality of the method. For example, with precision, we would be able to answer questions such as: How many of the 10 neighbors given by LSH are among the true 10 nearest neighbors?\n",
    "\n",
    "Our previous experiment is limited by the fact that it was run with a single query (data point). We should repeat the analysis for the entire data to make sure it generalizes. As Iterating over all data points would take a long time, we will cheat here and randomly choose a small subset."
   ]
  },
  {
   "cell_type": "code",
   "execution_count": 20,
   "metadata": {},
   "outputs": [
    {
     "name": "stdout",
     "output_type": "stream",
     "text": [
      "1 / 10\n",
      "2 / 10\n",
      "3 / 10\n",
      "4 / 10\n",
      "5 / 10\n",
      "6 / 10\n",
      "7 / 10\n",
      "8 / 10\n",
      "9 / 10\n",
      "10 / 10\n"
     ]
    },
    {
     "data": {
      "text/plain": [
       "{0: [0.1, 0.2, 0.1, 0.1, 0.2, 0.1, 0.1, 0.1, 0.1, 0.2],\n",
       " 1: [0.1, 0.2, 0.1, 0.1, 0.2, 0.1, 0.1, 0.1, 0.1, 0.4],\n",
       " 2: [0.1, 0.2, 0.1, 0.1, 0.3, 0.1, 0.1, 0.2, 0.2, 0.4],\n",
       " 3: [0.1, 0.2, 0.1, 0.2, 0.3, 0.1, 0.1, 0.2, 0.2, 0.4],\n",
       " 4: [0.1, 0.2, 0.1, 0.2, 0.5, 0.1, 0.1, 0.4, 0.2, 0.4],\n",
       " 5: [0.2, 0.4, 0.2, 0.2, 0.5, 0.3, 0.1, 0.4, 0.3, 0.5],\n",
       " 6: [0.3, 0.5, 0.3, 0.4, 0.5, 0.4, 0.5, 0.8, 0.5, 0.8],\n",
       " 7: [0.3, 0.8, 0.5, 0.7, 0.9, 0.6, 0.9, 0.8, 0.8, 1.0],\n",
       " 8: [0.7, 0.9, 0.8, 0.8, 1.0, 0.7, 1.0, 0.8, 0.9, 1.0],\n",
       " 9: [0.9, 1.0, 0.8, 0.9, 1.0, 0.8, 1.0, 0.8, 0.9, 1.0],\n",
       " 10: [1.0, 1.0, 1.0, 0.9, 1.0, 1.0, 1.0, 1.0, 1.0, 1.0]}"
      ]
     },
     "execution_count": 20,
     "metadata": {},
     "output_type": "execute_result"
    }
   ],
   "source": [
    "topn = 10\n",
    "max_radius = 11\n",
    "num_queries = 10\n",
    "np.random.seed(0)\n",
    "\n",
    "# key = radius, value = list of precision for different queries\n",
    "precision_history = {i: [] for i in range(max_radius)}\n",
    "\n",
    "random_query_ids = np.random.choice(X_tfidf.shape[0], num_queries, replace=False)\n",
    "for i, query_id in enumerate(random_query_ids):\n",
    "    print('%s / %s' % (i + 1, num_queries))\n",
    "\n",
    "    # get the set of true nearest neighbors\n",
    "    similar_items = get_similarity_items(X_tfidf, item_id=query_id, topn=topn)\n",
    "    ground_truth = set(similar_item for similar_item, _ in similar_items)\n",
    "\n",
    "    # compute precision metric for each radius\n",
    "    query_vector = X_tfidf[query_id]\n",
    "    for radius in range(max_radius):\n",
    "        nearest_neighbors = get_nearest_neighbors(X_tfidf, query_vector, model, max_search_radius=radius)\n",
    "        candidate_set = set(nearest_neighbors['id'].head(topn))\n",
    "\n",
    "        # precision = (# of neighbors both in result and ground_truth)\n",
    "        precision = len(candidate_set & ground_truth) / topn\n",
    "        precision_history[radius].append(precision)\n",
    "\n",
    "precision_history"
   ]
  },
  {
   "cell_type": "code",
   "execution_count": 21,
   "metadata": {},
   "outputs": [
    {
     "data": {
      "image/png": "[encoded data removed]",
      "text/plain": [
       "<Figure size 576x432 with 1 Axes>"
      ]
     },
     "metadata": {
      "needs_background": "light"
     },
     "output_type": "display_data"
    }
   ],
   "source": [
    "mean_precision = [np.mean(precision_history[i]) for i in range(len(precision_history))]\n",
    "\n",
    "plt.figure()\n",
    "plt.plot(mean_precision, linewidth=4, label='Precison@' + str(topn))\n",
    "plt.xlabel('Search radius')\n",
    "plt.ylabel('Precision')\n",
    "plt.legend()\n",
    "plt.tight_layout()"
   ]
  },
  {
   "cell_type": "markdown",
   "metadata": {},
   "source": [
    "# Conclusions\n",
    "<hr style = \"border:2px solid black\" ></hr>"
   ]
  },
  {
   "cell_type": "markdown",
   "metadata": {},
   "source": [
    "\n",
    "- LSH performs an efficient neighbor search by randomly partitioning all reference data points into different bins, when it comes to the similarity search stage, it will only consider searching within data points that fall within the same bin. \n",
    "- Then a radius parameter gives the end-user full control over the trade-off between the speed of the search versus the quality of the nearest neighbors.\n",
    "\n",
""   ]
  },
  {
   "cell_type": "markdown",
   "metadata": {},
   "source": [
    "# References\n",
    "<hr style = \"border:2px solid black\" ></hr>"
   ]
  },
  {
   "cell_type": "markdown",
   "metadata": {},
   "source": [
    "\n",
    "- [Coursera: Washington Clustering & Retrieval](https://www.coursera.org/learn/ml-clustering-and-retrieval)\n",
    "- [Jupyter Notebook: Locality Sensitive Hashing](http://nbviewer.jupyter.org/github/smarthi/UnivOfWashington-Machine-Learning/blob/master/Clustering_IR/week2/1_nearest-neighbors-lsh-implementation_blank.ipynb)\n",
    "- [Blog: Locality Sensitive Hashing for Similar Item Search](https://towardsdatascience.com/locality-sensitive-hashing-for-music-search-f2f1940ace23)\n",
    "- [Blog: A Simple Content-Based Recommendation Engine in Python](http://blog.untrod.com/2016/06/simple-similar-products-recommendation-engine-in-python.html)\n",
    "- [Stackoverflow: How to understand Locality Sensitive Hashing?](https://stackoverflow.com/questions/12952729/how-to-understand-locality-sensitive-hashing)\n",
    "\n",
""   ]
  },
  {
   "cell_type": "code",
   "execution_count": null,
   "metadata": {},
   "outputs": [],
   "source": []
  }
 ],
 "metadata": {
  "hide_input": false,
  "kernelspec": {
   "display_name": "Python 3 (ipykernel)",
   "language": "python",
   "name": "python3"
  },
  "language_info": {
   "codemirror_mode": {
    "name": "ipython",
    "version": 3
   },
   "file_extension": ".py",
   "mimetype": "text/x-python",
   "name": "python",
   "nbconvert_exporter": "python",
   "pygments_lexer": "ipython3",
   "version": "3.9.7"
  },
  "toc": {
   "base_numbering": 1,
   "nav_menu": {},
   "number_sections": true,
   "sideBar": true,
   "skip_h1_title": false,
   "title_cell": "Table of Contents",
   "title_sidebar": "Contents",
   "toc_cell": true,
   "toc_position": {
    "height": "calc(100% - 180px)",
    "left": "10px",
    "top": "150px",
    "width": "241px"
   },
   "toc_section_display": true,
   "toc_window_display": true
  },
  "varInspector": {
   "cols": {
    "lenName": 16,
    "lenType": 16,
    "lenVar": 40
   },
   "kernels_config": {
    "python": {
     "delete_cmd_postfix": "",
     "delete_cmd_prefix": "del ",
     "library": "var_list.py",
     "varRefreshCmd": "print(var_dic_list())"
    },
    "r": {
     "delete_cmd_postfix": ") ",
     "delete_cmd_prefix": "rm(",
     "library": "var_list.r",
     "varRefreshCmd": "cat(var_dic_list()) "
    }
   },
   "types_to_exclude": [
    "module",
    "function",
    "builtin_function_or_method",
    "instance",
    "_Feature"
   ],
   "window_display": false
  }
 },
 "nbformat": 4,
 "nbformat_minor": 2
}
